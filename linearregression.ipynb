{
 "cells": [
  {
   "cell_type": "code",
   "execution_count": 4,
   "metadata": {
    "vscode": {
     "languageId": "r"
    }
   },
   "outputs": [],
   "source": [
    ".libPaths(c(\"D:/miniconda/envs/spnsp1/Lib/R/library\"))\n"
   ]
  },
  {
   "cell_type": "code",
   "execution_count": 19,
   "metadata": {
    "vscode": {
     "languageId": "r"
    }
   },
   "outputs": [
    {
     "name": "stderr",
     "output_type": "stream",
     "text": [
      "\n",
      "Attaching package: 'psych'\n",
      "\n",
      "\n",
      "The following object is masked from 'package:dlookr':\n",
      "\n",
      "    describe\n",
      "\n",
      "\n",
      "The following objects are masked from 'package:ggplot2':\n",
      "\n",
      "    %+%, alpha\n",
      "\n",
      "\n"
     ]
    }
   ],
   "source": [
    "library(tidyverse)\n",
    "library(dlookr)\n",
    "library(performance)\n",
    "library(psych)\n"
   ]
  },
  {
   "cell_type": "code",
   "execution_count": 22,
   "metadata": {
    "vscode": {
     "languageId": "r"
    }
   },
   "outputs": [
    {
     "data": {
      "text/html": [
       "'D:/miniconda/envs/spnsp1/Lib/R/library/psych'"
      ],
      "text/latex": [
       "'D:/miniconda/envs/spnsp1/Lib/R/library/psych'"
      ],
      "text/markdown": [
       "'D:/miniconda/envs/spnsp1/Lib/R/library/psych'"
      ],
      "text/plain": [
       "[1] \"D:/miniconda/envs/spnsp1/Lib/R/library/psych\""
      ]
     },
     "metadata": {},
     "output_type": "display_data"
    }
   ],
   "source": [
    "#install.packages(\"psych\")\n",
    "find.package(\"psych\")"
   ]
  },
  {
   "cell_type": "code",
   "execution_count": 17,
   "metadata": {
    "vscode": {
     "languageId": "r"
    }
   },
   "outputs": [
    {
     "data": {
      "text/html": [
       "'D:/miniconda/envs/spnsp1/Lib/R/library'"
      ],
      "text/latex": [
       "'D:/miniconda/envs/spnsp1/Lib/R/library'"
      ],
      "text/markdown": [
       "'D:/miniconda/envs/spnsp1/Lib/R/library'"
      ],
      "text/plain": [
       "[1] \"D:/miniconda/envs/spnsp1/Lib/R/library\""
      ]
     },
     "metadata": {},
     "output_type": "display_data"
    }
   ],
   "source": [
    ".libPaths()"
   ]
  },
  {
   "cell_type": "code",
   "execution_count": 41,
   "metadata": {
    "vscode": {
     "languageId": "r"
    }
   },
   "outputs": [
    {
     "data": {
      "text/html": [
       "<table class=\"dataframe\">\n",
       "<caption>A data.frame: 7385 × 12</caption>\n",
       "<thead>\n",
       "\t<tr><th scope=col>Make</th><th scope=col>Model</th><th scope=col>Vehicle.Class</th><th scope=col>Engine.Size.L.</th><th scope=col>Cylinders</th><th scope=col>Transmission</th><th scope=col>Fuel.Type</th><th scope=col>Fuel.Consumption.City..L.100.km.</th><th scope=col>Fuel.Consumption.Hwy..L.100.km.</th><th scope=col>Fuel.Consumption.Comb..L.100.km.</th><th scope=col>Fuel.Consumption.Comb..mpg.</th><th scope=col>CO2.Emissions.g.km.</th></tr>\n",
       "\t<tr><th scope=col>&lt;chr&gt;</th><th scope=col>&lt;chr&gt;</th><th scope=col>&lt;chr&gt;</th><th scope=col>&lt;dbl&gt;</th><th scope=col>&lt;int&gt;</th><th scope=col>&lt;chr&gt;</th><th scope=col>&lt;chr&gt;</th><th scope=col>&lt;dbl&gt;</th><th scope=col>&lt;dbl&gt;</th><th scope=col>&lt;dbl&gt;</th><th scope=col>&lt;int&gt;</th><th scope=col>&lt;int&gt;</th></tr>\n",
       "</thead>\n",
       "<tbody>\n",
       "\t<tr><td>ACURA       </td><td>ILX                      </td><td>COMPACT    </td><td>2.0</td><td> 4</td><td>AS5</td><td>Z</td><td> 9.9</td><td> 6.7</td><td> 8.5</td><td>33</td><td>196</td></tr>\n",
       "\t<tr><td>ACURA       </td><td>ILX                      </td><td>COMPACT    </td><td>2.4</td><td> 4</td><td>M6 </td><td>Z</td><td>11.2</td><td> 7.7</td><td> 9.6</td><td>29</td><td>221</td></tr>\n",
       "\t<tr><td>ACURA       </td><td>ILX HYBRID               </td><td>COMPACT    </td><td>1.5</td><td> 4</td><td>AV7</td><td>Z</td><td> 6.0</td><td> 5.8</td><td> 5.9</td><td>48</td><td>136</td></tr>\n",
       "\t<tr><td>ACURA       </td><td>MDX 4WD                  </td><td>SUV - SMALL</td><td>3.5</td><td> 6</td><td>AS6</td><td>Z</td><td>12.7</td><td> 9.1</td><td>11.1</td><td>25</td><td>255</td></tr>\n",
       "\t<tr><td>ACURA       </td><td>RDX AWD                  </td><td>SUV - SMALL</td><td>3.5</td><td> 6</td><td>AS6</td><td>Z</td><td>12.1</td><td> 8.7</td><td>10.6</td><td>27</td><td>244</td></tr>\n",
       "\t<tr><td>ACURA       </td><td>RLX                      </td><td>MID-SIZE   </td><td>3.5</td><td> 6</td><td>AS6</td><td>Z</td><td>11.9</td><td> 7.7</td><td>10.0</td><td>28</td><td>230</td></tr>\n",
       "\t<tr><td>ACURA       </td><td>TL                       </td><td>MID-SIZE   </td><td>3.5</td><td> 6</td><td>AS6</td><td>Z</td><td>11.8</td><td> 8.1</td><td>10.1</td><td>28</td><td>232</td></tr>\n",
       "\t<tr><td>ACURA       </td><td>TL AWD                   </td><td>MID-SIZE   </td><td>3.7</td><td> 6</td><td>AS6</td><td>Z</td><td>12.8</td><td> 9.0</td><td>11.1</td><td>25</td><td>255</td></tr>\n",
       "\t<tr><td>ACURA       </td><td>TL AWD                   </td><td>MID-SIZE   </td><td>3.7</td><td> 6</td><td>M6 </td><td>Z</td><td>13.4</td><td> 9.5</td><td>11.6</td><td>24</td><td>267</td></tr>\n",
       "\t<tr><td>ACURA       </td><td>TSX                      </td><td>COMPACT    </td><td>2.4</td><td> 4</td><td>AS5</td><td>Z</td><td>10.6</td><td> 7.5</td><td> 9.2</td><td>31</td><td>212</td></tr>\n",
       "\t<tr><td>ACURA       </td><td>TSX                      </td><td>COMPACT    </td><td>2.4</td><td> 4</td><td>M6 </td><td>Z</td><td>11.2</td><td> 8.1</td><td> 9.8</td><td>29</td><td>225</td></tr>\n",
       "\t<tr><td>ACURA       </td><td>TSX                      </td><td>COMPACT    </td><td>3.5</td><td> 6</td><td>AS5</td><td>Z</td><td>12.1</td><td> 8.3</td><td>10.4</td><td>27</td><td>239</td></tr>\n",
       "\t<tr><td>ALFA ROMEO  </td><td>4C                       </td><td>TWO-SEATER </td><td>1.8</td><td> 4</td><td>AM6</td><td>Z</td><td> 9.7</td><td> 6.9</td><td> 8.4</td><td>34</td><td>193</td></tr>\n",
       "\t<tr><td>ASTON MARTIN</td><td>DB9                      </td><td>MINICOMPACT</td><td>5.9</td><td>12</td><td>A6 </td><td>Z</td><td>18.0</td><td>12.6</td><td>15.6</td><td>18</td><td>359</td></tr>\n",
       "\t<tr><td>ASTON MARTIN</td><td>RAPIDE                   </td><td>SUBCOMPACT </td><td>5.9</td><td>12</td><td>A6 </td><td>Z</td><td>18.0</td><td>12.6</td><td>15.6</td><td>18</td><td>359</td></tr>\n",
       "\t<tr><td>ASTON MARTIN</td><td>V8 VANTAGE               </td><td>TWO-SEATER </td><td>4.7</td><td> 8</td><td>AM7</td><td>Z</td><td>17.4</td><td>11.3</td><td>14.7</td><td>19</td><td>338</td></tr>\n",
       "\t<tr><td>ASTON MARTIN</td><td>V8 VANTAGE               </td><td>TWO-SEATER </td><td>4.7</td><td> 8</td><td>M6 </td><td>Z</td><td>18.1</td><td>12.2</td><td>15.4</td><td>18</td><td>354</td></tr>\n",
       "\t<tr><td>ASTON MARTIN</td><td>V8 VANTAGE S             </td><td>TWO-SEATER </td><td>4.7</td><td> 8</td><td>AM7</td><td>Z</td><td>17.4</td><td>11.3</td><td>14.7</td><td>19</td><td>338</td></tr>\n",
       "\t<tr><td>ASTON MARTIN</td><td>V8 VANTAGE S             </td><td>TWO-SEATER </td><td>4.7</td><td> 8</td><td>M6 </td><td>Z</td><td>18.1</td><td>12.2</td><td>15.4</td><td>18</td><td>354</td></tr>\n",
       "\t<tr><td>ASTON MARTIN</td><td>VANQUISH                 </td><td>MINICOMPACT</td><td>5.9</td><td>12</td><td>A6 </td><td>Z</td><td>18.0</td><td>12.6</td><td>15.6</td><td>18</td><td>359</td></tr>\n",
       "\t<tr><td>AUDI        </td><td>A4                       </td><td>COMPACT    </td><td>2.0</td><td> 4</td><td>AV8</td><td>Z</td><td> 9.9</td><td> 7.4</td><td> 8.8</td><td>32</td><td>202</td></tr>\n",
       "\t<tr><td>AUDI        </td><td>A4 QUATTRO               </td><td>COMPACT    </td><td>2.0</td><td> 4</td><td>AS8</td><td>Z</td><td>11.5</td><td> 8.1</td><td>10.0</td><td>28</td><td>230</td></tr>\n",
       "\t<tr><td>AUDI        </td><td>A4 QUATTRO               </td><td>COMPACT    </td><td>2.0</td><td> 4</td><td>M6 </td><td>Z</td><td>10.8</td><td> 7.5</td><td> 9.3</td><td>30</td><td>214</td></tr>\n",
       "\t<tr><td>AUDI        </td><td>A5 CABRIOLET QUATTRO     </td><td>SUBCOMPACT </td><td>2.0</td><td> 4</td><td>AS8</td><td>Z</td><td>11.5</td><td> 8.1</td><td>10.0</td><td>28</td><td>230</td></tr>\n",
       "\t<tr><td>AUDI        </td><td>A5 QUATTRO               </td><td>SUBCOMPACT </td><td>2.0</td><td> 4</td><td>AS8</td><td>Z</td><td>11.5</td><td> 8.1</td><td>10.0</td><td>28</td><td>230</td></tr>\n",
       "\t<tr><td>AUDI        </td><td>A5 QUATTRO               </td><td>SUBCOMPACT </td><td>2.0</td><td> 4</td><td>M6 </td><td>Z</td><td>10.8</td><td> 7.5</td><td> 9.3</td><td>30</td><td>214</td></tr>\n",
       "\t<tr><td>AUDI        </td><td>A6 QUATTRO               </td><td>MID-SIZE   </td><td>2.0</td><td> 4</td><td>AS8</td><td>Z</td><td>12.0</td><td> 8.1</td><td>10.2</td><td>28</td><td>235</td></tr>\n",
       "\t<tr><td>AUDI        </td><td>A6 QUATTRO               </td><td>MID-SIZE   </td><td>3.0</td><td> 6</td><td>AS8</td><td>Z</td><td>12.8</td><td> 8.6</td><td>10.9</td><td>26</td><td>251</td></tr>\n",
       "\t<tr><td>AUDI        </td><td>A6 QUATTRO TDI (modified)</td><td>MID-SIZE   </td><td>3.0</td><td> 6</td><td>AS8</td><td>D</td><td> 9.8</td><td> 6.2</td><td> 8.1</td><td>35</td><td>217</td></tr>\n",
       "\t<tr><td>AUDI        </td><td>A7 QUATTRO               </td><td>MID-SIZE   </td><td>3.0</td><td> 6</td><td>AS8</td><td>Z</td><td>13.3</td><td> 8.5</td><td>11.2</td><td>25</td><td>262</td></tr>\n",
       "\t<tr><td>⋮</td><td>⋮</td><td>⋮</td><td>⋮</td><td>⋮</td><td>⋮</td><td>⋮</td><td>⋮</td><td>⋮</td><td>⋮</td><td>⋮</td><td>⋮</td></tr>\n",
       "\t<tr><td>TOYOTA    </td><td>Tacoma 4WD D-Cab TRD Off-Road/Pro</td><td>PICKUP TRUCK - SMALL   </td><td>3.5</td><td>6</td><td>M6 </td><td>X</td><td>13.8</td><td>11.7</td><td>12.9</td><td>22</td><td>300</td></tr>\n",
       "\t<tr><td>TOYOTA    </td><td>Tundra                           </td><td>PICKUP TRUCK - STANDARD</td><td>5.7</td><td>8</td><td>AS6</td><td>X</td><td>17.7</td><td>13.6</td><td>15.9</td><td>18</td><td>371</td></tr>\n",
       "\t<tr><td>TOYOTA    </td><td>Tundra 4WD                       </td><td>PICKUP TRUCK - STANDARD</td><td>5.7</td><td>8</td><td>AS6</td><td>X</td><td>18.0</td><td>14.2</td><td>16.3</td><td>17</td><td>381</td></tr>\n",
       "\t<tr><td>TOYOTA    </td><td>Yaris                            </td><td>COMPACT                </td><td>1.5</td><td>4</td><td>AS6</td><td>X</td><td> 7.3</td><td> 5.9</td><td> 6.6</td><td>43</td><td>155</td></tr>\n",
       "\t<tr><td>TOYOTA    </td><td>Yaris (SIL)                      </td><td>COMPACT                </td><td>1.5</td><td>4</td><td>M6 </td><td>X</td><td> 7.8</td><td> 6.1</td><td> 6.9</td><td>41</td><td>165</td></tr>\n",
       "\t<tr><td>VOLKSWAGEN</td><td>Arteon 4MOTION                   </td><td>FULL-SIZE              </td><td>2.0</td><td>4</td><td>AS8</td><td>Z</td><td>11.5</td><td> 8.2</td><td>10.0</td><td>28</td><td>234</td></tr>\n",
       "\t<tr><td>VOLKSWAGEN</td><td>Atlas Cross Sport 4MOTION        </td><td>SUV - SMALL            </td><td>2.0</td><td>4</td><td>AS8</td><td>X</td><td>12.8</td><td>10.4</td><td>11.7</td><td>24</td><td>273</td></tr>\n",
       "\t<tr><td>VOLKSWAGEN</td><td>Golf                             </td><td>COMPACT                </td><td>1.4</td><td>4</td><td>AS8</td><td>X</td><td> 8.1</td><td> 6.6</td><td> 7.4</td><td>38</td><td>174</td></tr>\n",
       "\t<tr><td>VOLKSWAGEN</td><td>Golf                             </td><td>COMPACT                </td><td>1.4</td><td>4</td><td>M6 </td><td>X</td><td> 8.4</td><td> 6.6</td><td> 7.6</td><td>37</td><td>177</td></tr>\n",
       "\t<tr><td>VOLKSWAGEN</td><td>Golf GTI                         </td><td>COMPACT                </td><td>2.0</td><td>4</td><td>AM7</td><td>X</td><td> 9.7</td><td> 7.5</td><td> 8.7</td><td>32</td><td>203</td></tr>\n",
       "\t<tr><td>VOLKSWAGEN</td><td>Golf GTI                         </td><td>COMPACT                </td><td>2.0</td><td>4</td><td>M6 </td><td>X</td><td> 9.8</td><td> 7.3</td><td> 8.7</td><td>32</td><td>203</td></tr>\n",
       "\t<tr><td>VOLKSWAGEN</td><td>Jetta                            </td><td>COMPACT                </td><td>1.4</td><td>4</td><td>AS8</td><td>X</td><td> 7.8</td><td> 5.9</td><td> 7.0</td><td>40</td><td>162</td></tr>\n",
       "\t<tr><td>VOLKSWAGEN</td><td>Jetta                            </td><td>COMPACT                </td><td>1.4</td><td>4</td><td>M6 </td><td>X</td><td> 7.9</td><td> 5.9</td><td> 7.0</td><td>40</td><td>163</td></tr>\n",
       "\t<tr><td>VOLKSWAGEN</td><td>Jetta GLI                        </td><td>COMPACT                </td><td>2.0</td><td>4</td><td>AM7</td><td>X</td><td> 9.3</td><td> 7.2</td><td> 8.4</td><td>34</td><td>196</td></tr>\n",
       "\t<tr><td>VOLKSWAGEN</td><td>Jetta GLI                        </td><td>COMPACT                </td><td>2.0</td><td>4</td><td>M6 </td><td>X</td><td> 9.6</td><td> 7.1</td><td> 8.5</td><td>33</td><td>198</td></tr>\n",
       "\t<tr><td>VOLKSWAGEN</td><td>Passat                           </td><td>MID-SIZE               </td><td>2.0</td><td>4</td><td>AS6</td><td>X</td><td>10.2</td><td> 6.9</td><td> 8.7</td><td>32</td><td>205</td></tr>\n",
       "\t<tr><td>VOLKSWAGEN</td><td>Tiguan                           </td><td>SUV - SMALL            </td><td>2.0</td><td>4</td><td>AS8</td><td>X</td><td>10.5</td><td> 8.1</td><td> 9.4</td><td>30</td><td>221</td></tr>\n",
       "\t<tr><td>VOLKSWAGEN</td><td>Tiguan 4MOTION                   </td><td>SUV - SMALL            </td><td>2.0</td><td>4</td><td>AS8</td><td>X</td><td>11.5</td><td> 8.7</td><td>10.2</td><td>28</td><td>241</td></tr>\n",
       "\t<tr><td>VOLVO     </td><td>S60 T5                           </td><td>COMPACT                </td><td>2.0</td><td>4</td><td>AS8</td><td>Z</td><td>10.5</td><td> 7.1</td><td> 8.9</td><td>32</td><td>208</td></tr>\n",
       "\t<tr><td>VOLVO     </td><td>S60 T6 AWD                       </td><td>COMPACT                </td><td>2.0</td><td>4</td><td>AS8</td><td>Z</td><td>11.0</td><td> 7.4</td><td> 9.4</td><td>30</td><td>219</td></tr>\n",
       "\t<tr><td>VOLVO     </td><td>S90 T6 AWD                       </td><td>MID-SIZE               </td><td>2.0</td><td>4</td><td>AS8</td><td>Z</td><td>11.3</td><td> 7.5</td><td> 9.6</td><td>29</td><td>223</td></tr>\n",
       "\t<tr><td>VOLVO     </td><td>V60 T5                           </td><td>STATION WAGON - SMALL  </td><td>2.0</td><td>4</td><td>AS8</td><td>Z</td><td>10.5</td><td> 7.1</td><td> 8.9</td><td>32</td><td>208</td></tr>\n",
       "\t<tr><td>VOLVO     </td><td>V60 T6 AWD                       </td><td>STATION WAGON - SMALL  </td><td>2.0</td><td>4</td><td>AS8</td><td>Z</td><td>11.0</td><td> 7.4</td><td> 9.4</td><td>30</td><td>219</td></tr>\n",
       "\t<tr><td>VOLVO     </td><td>V60 CC T5 AWD                    </td><td>STATION WAGON - SMALL  </td><td>2.0</td><td>4</td><td>AS8</td><td>Z</td><td>10.8</td><td> 7.7</td><td> 9.4</td><td>30</td><td>220</td></tr>\n",
       "\t<tr><td>VOLVO     </td><td>XC40 T4 AWD                      </td><td>SUV - SMALL            </td><td>2.0</td><td>4</td><td>AS8</td><td>X</td><td>10.2</td><td> 7.5</td><td> 9.0</td><td>31</td><td>210</td></tr>\n",
       "\t<tr><td>VOLVO     </td><td>XC40 T5 AWD                      </td><td>SUV - SMALL            </td><td>2.0</td><td>4</td><td>AS8</td><td>Z</td><td>10.7</td><td> 7.7</td><td> 9.4</td><td>30</td><td>219</td></tr>\n",
       "\t<tr><td>VOLVO     </td><td>XC60 T5 AWD                      </td><td>SUV - SMALL            </td><td>2.0</td><td>4</td><td>AS8</td><td>Z</td><td>11.2</td><td> 8.3</td><td> 9.9</td><td>29</td><td>232</td></tr>\n",
       "\t<tr><td>VOLVO     </td><td>XC60 T6 AWD                      </td><td>SUV - SMALL            </td><td>2.0</td><td>4</td><td>AS8</td><td>Z</td><td>11.7</td><td> 8.6</td><td>10.3</td><td>27</td><td>240</td></tr>\n",
       "\t<tr><td>VOLVO     </td><td>XC90 T5 AWD                      </td><td>SUV - STANDARD         </td><td>2.0</td><td>4</td><td>AS8</td><td>Z</td><td>11.2</td><td> 8.3</td><td> 9.9</td><td>29</td><td>232</td></tr>\n",
       "\t<tr><td>VOLVO     </td><td>XC90 T6 AWD                      </td><td>SUV - STANDARD         </td><td>2.0</td><td>4</td><td>AS8</td><td>Z</td><td>12.2</td><td> 8.7</td><td>10.7</td><td>26</td><td>248</td></tr>\n",
       "</tbody>\n",
       "</table>\n"
      ],
      "text/latex": [
       "A data.frame: 7385 × 12\n",
       "\\begin{tabular}{llllllllllll}\n",
       " Make & Model & Vehicle.Class & Engine.Size.L. & Cylinders & Transmission & Fuel.Type & Fuel.Consumption.City..L.100.km. & Fuel.Consumption.Hwy..L.100.km. & Fuel.Consumption.Comb..L.100.km. & Fuel.Consumption.Comb..mpg. & CO2.Emissions.g.km.\\\\\n",
       " <chr> & <chr> & <chr> & <dbl> & <int> & <chr> & <chr> & <dbl> & <dbl> & <dbl> & <int> & <int>\\\\\n",
       "\\hline\n",
       "\t ACURA        & ILX                       & COMPACT     & 2.0 &  4 & AS5 & Z &  9.9 &  6.7 &  8.5 & 33 & 196\\\\\n",
       "\t ACURA        & ILX                       & COMPACT     & 2.4 &  4 & M6  & Z & 11.2 &  7.7 &  9.6 & 29 & 221\\\\\n",
       "\t ACURA        & ILX HYBRID                & COMPACT     & 1.5 &  4 & AV7 & Z &  6.0 &  5.8 &  5.9 & 48 & 136\\\\\n",
       "\t ACURA        & MDX 4WD                   & SUV - SMALL & 3.5 &  6 & AS6 & Z & 12.7 &  9.1 & 11.1 & 25 & 255\\\\\n",
       "\t ACURA        & RDX AWD                   & SUV - SMALL & 3.5 &  6 & AS6 & Z & 12.1 &  8.7 & 10.6 & 27 & 244\\\\\n",
       "\t ACURA        & RLX                       & MID-SIZE    & 3.5 &  6 & AS6 & Z & 11.9 &  7.7 & 10.0 & 28 & 230\\\\\n",
       "\t ACURA        & TL                        & MID-SIZE    & 3.5 &  6 & AS6 & Z & 11.8 &  8.1 & 10.1 & 28 & 232\\\\\n",
       "\t ACURA        & TL AWD                    & MID-SIZE    & 3.7 &  6 & AS6 & Z & 12.8 &  9.0 & 11.1 & 25 & 255\\\\\n",
       "\t ACURA        & TL AWD                    & MID-SIZE    & 3.7 &  6 & M6  & Z & 13.4 &  9.5 & 11.6 & 24 & 267\\\\\n",
       "\t ACURA        & TSX                       & COMPACT     & 2.4 &  4 & AS5 & Z & 10.6 &  7.5 &  9.2 & 31 & 212\\\\\n",
       "\t ACURA        & TSX                       & COMPACT     & 2.4 &  4 & M6  & Z & 11.2 &  8.1 &  9.8 & 29 & 225\\\\\n",
       "\t ACURA        & TSX                       & COMPACT     & 3.5 &  6 & AS5 & Z & 12.1 &  8.3 & 10.4 & 27 & 239\\\\\n",
       "\t ALFA ROMEO   & 4C                        & TWO-SEATER  & 1.8 &  4 & AM6 & Z &  9.7 &  6.9 &  8.4 & 34 & 193\\\\\n",
       "\t ASTON MARTIN & DB9                       & MINICOMPACT & 5.9 & 12 & A6  & Z & 18.0 & 12.6 & 15.6 & 18 & 359\\\\\n",
       "\t ASTON MARTIN & RAPIDE                    & SUBCOMPACT  & 5.9 & 12 & A6  & Z & 18.0 & 12.6 & 15.6 & 18 & 359\\\\\n",
       "\t ASTON MARTIN & V8 VANTAGE                & TWO-SEATER  & 4.7 &  8 & AM7 & Z & 17.4 & 11.3 & 14.7 & 19 & 338\\\\\n",
       "\t ASTON MARTIN & V8 VANTAGE                & TWO-SEATER  & 4.7 &  8 & M6  & Z & 18.1 & 12.2 & 15.4 & 18 & 354\\\\\n",
       "\t ASTON MARTIN & V8 VANTAGE S              & TWO-SEATER  & 4.7 &  8 & AM7 & Z & 17.4 & 11.3 & 14.7 & 19 & 338\\\\\n",
       "\t ASTON MARTIN & V8 VANTAGE S              & TWO-SEATER  & 4.7 &  8 & M6  & Z & 18.1 & 12.2 & 15.4 & 18 & 354\\\\\n",
       "\t ASTON MARTIN & VANQUISH                  & MINICOMPACT & 5.9 & 12 & A6  & Z & 18.0 & 12.6 & 15.6 & 18 & 359\\\\\n",
       "\t AUDI         & A4                        & COMPACT     & 2.0 &  4 & AV8 & Z &  9.9 &  7.4 &  8.8 & 32 & 202\\\\\n",
       "\t AUDI         & A4 QUATTRO                & COMPACT     & 2.0 &  4 & AS8 & Z & 11.5 &  8.1 & 10.0 & 28 & 230\\\\\n",
       "\t AUDI         & A4 QUATTRO                & COMPACT     & 2.0 &  4 & M6  & Z & 10.8 &  7.5 &  9.3 & 30 & 214\\\\\n",
       "\t AUDI         & A5 CABRIOLET QUATTRO      & SUBCOMPACT  & 2.0 &  4 & AS8 & Z & 11.5 &  8.1 & 10.0 & 28 & 230\\\\\n",
       "\t AUDI         & A5 QUATTRO                & SUBCOMPACT  & 2.0 &  4 & AS8 & Z & 11.5 &  8.1 & 10.0 & 28 & 230\\\\\n",
       "\t AUDI         & A5 QUATTRO                & SUBCOMPACT  & 2.0 &  4 & M6  & Z & 10.8 &  7.5 &  9.3 & 30 & 214\\\\\n",
       "\t AUDI         & A6 QUATTRO                & MID-SIZE    & 2.0 &  4 & AS8 & Z & 12.0 &  8.1 & 10.2 & 28 & 235\\\\\n",
       "\t AUDI         & A6 QUATTRO                & MID-SIZE    & 3.0 &  6 & AS8 & Z & 12.8 &  8.6 & 10.9 & 26 & 251\\\\\n",
       "\t AUDI         & A6 QUATTRO TDI (modified) & MID-SIZE    & 3.0 &  6 & AS8 & D &  9.8 &  6.2 &  8.1 & 35 & 217\\\\\n",
       "\t AUDI         & A7 QUATTRO                & MID-SIZE    & 3.0 &  6 & AS8 & Z & 13.3 &  8.5 & 11.2 & 25 & 262\\\\\n",
       "\t ⋮ & ⋮ & ⋮ & ⋮ & ⋮ & ⋮ & ⋮ & ⋮ & ⋮ & ⋮ & ⋮ & ⋮\\\\\n",
       "\t TOYOTA     & Tacoma 4WD D-Cab TRD Off-Road/Pro & PICKUP TRUCK - SMALL    & 3.5 & 6 & M6  & X & 13.8 & 11.7 & 12.9 & 22 & 300\\\\\n",
       "\t TOYOTA     & Tundra                            & PICKUP TRUCK - STANDARD & 5.7 & 8 & AS6 & X & 17.7 & 13.6 & 15.9 & 18 & 371\\\\\n",
       "\t TOYOTA     & Tundra 4WD                        & PICKUP TRUCK - STANDARD & 5.7 & 8 & AS6 & X & 18.0 & 14.2 & 16.3 & 17 & 381\\\\\n",
       "\t TOYOTA     & Yaris                             & COMPACT                 & 1.5 & 4 & AS6 & X &  7.3 &  5.9 &  6.6 & 43 & 155\\\\\n",
       "\t TOYOTA     & Yaris (SIL)                       & COMPACT                 & 1.5 & 4 & M6  & X &  7.8 &  6.1 &  6.9 & 41 & 165\\\\\n",
       "\t VOLKSWAGEN & Arteon 4MOTION                    & FULL-SIZE               & 2.0 & 4 & AS8 & Z & 11.5 &  8.2 & 10.0 & 28 & 234\\\\\n",
       "\t VOLKSWAGEN & Atlas Cross Sport 4MOTION         & SUV - SMALL             & 2.0 & 4 & AS8 & X & 12.8 & 10.4 & 11.7 & 24 & 273\\\\\n",
       "\t VOLKSWAGEN & Golf                              & COMPACT                 & 1.4 & 4 & AS8 & X &  8.1 &  6.6 &  7.4 & 38 & 174\\\\\n",
       "\t VOLKSWAGEN & Golf                              & COMPACT                 & 1.4 & 4 & M6  & X &  8.4 &  6.6 &  7.6 & 37 & 177\\\\\n",
       "\t VOLKSWAGEN & Golf GTI                          & COMPACT                 & 2.0 & 4 & AM7 & X &  9.7 &  7.5 &  8.7 & 32 & 203\\\\\n",
       "\t VOLKSWAGEN & Golf GTI                          & COMPACT                 & 2.0 & 4 & M6  & X &  9.8 &  7.3 &  8.7 & 32 & 203\\\\\n",
       "\t VOLKSWAGEN & Jetta                             & COMPACT                 & 1.4 & 4 & AS8 & X &  7.8 &  5.9 &  7.0 & 40 & 162\\\\\n",
       "\t VOLKSWAGEN & Jetta                             & COMPACT                 & 1.4 & 4 & M6  & X &  7.9 &  5.9 &  7.0 & 40 & 163\\\\\n",
       "\t VOLKSWAGEN & Jetta GLI                         & COMPACT                 & 2.0 & 4 & AM7 & X &  9.3 &  7.2 &  8.4 & 34 & 196\\\\\n",
       "\t VOLKSWAGEN & Jetta GLI                         & COMPACT                 & 2.0 & 4 & M6  & X &  9.6 &  7.1 &  8.5 & 33 & 198\\\\\n",
       "\t VOLKSWAGEN & Passat                            & MID-SIZE                & 2.0 & 4 & AS6 & X & 10.2 &  6.9 &  8.7 & 32 & 205\\\\\n",
       "\t VOLKSWAGEN & Tiguan                            & SUV - SMALL             & 2.0 & 4 & AS8 & X & 10.5 &  8.1 &  9.4 & 30 & 221\\\\\n",
       "\t VOLKSWAGEN & Tiguan 4MOTION                    & SUV - SMALL             & 2.0 & 4 & AS8 & X & 11.5 &  8.7 & 10.2 & 28 & 241\\\\\n",
       "\t VOLVO      & S60 T5                            & COMPACT                 & 2.0 & 4 & AS8 & Z & 10.5 &  7.1 &  8.9 & 32 & 208\\\\\n",
       "\t VOLVO      & S60 T6 AWD                        & COMPACT                 & 2.0 & 4 & AS8 & Z & 11.0 &  7.4 &  9.4 & 30 & 219\\\\\n",
       "\t VOLVO      & S90 T6 AWD                        & MID-SIZE                & 2.0 & 4 & AS8 & Z & 11.3 &  7.5 &  9.6 & 29 & 223\\\\\n",
       "\t VOLVO      & V60 T5                            & STATION WAGON - SMALL   & 2.0 & 4 & AS8 & Z & 10.5 &  7.1 &  8.9 & 32 & 208\\\\\n",
       "\t VOLVO      & V60 T6 AWD                        & STATION WAGON - SMALL   & 2.0 & 4 & AS8 & Z & 11.0 &  7.4 &  9.4 & 30 & 219\\\\\n",
       "\t VOLVO      & V60 CC T5 AWD                     & STATION WAGON - SMALL   & 2.0 & 4 & AS8 & Z & 10.8 &  7.7 &  9.4 & 30 & 220\\\\\n",
       "\t VOLVO      & XC40 T4 AWD                       & SUV - SMALL             & 2.0 & 4 & AS8 & X & 10.2 &  7.5 &  9.0 & 31 & 210\\\\\n",
       "\t VOLVO      & XC40 T5 AWD                       & SUV - SMALL             & 2.0 & 4 & AS8 & Z & 10.7 &  7.7 &  9.4 & 30 & 219\\\\\n",
       "\t VOLVO      & XC60 T5 AWD                       & SUV - SMALL             & 2.0 & 4 & AS8 & Z & 11.2 &  8.3 &  9.9 & 29 & 232\\\\\n",
       "\t VOLVO      & XC60 T6 AWD                       & SUV - SMALL             & 2.0 & 4 & AS8 & Z & 11.7 &  8.6 & 10.3 & 27 & 240\\\\\n",
       "\t VOLVO      & XC90 T5 AWD                       & SUV - STANDARD          & 2.0 & 4 & AS8 & Z & 11.2 &  8.3 &  9.9 & 29 & 232\\\\\n",
       "\t VOLVO      & XC90 T6 AWD                       & SUV - STANDARD          & 2.0 & 4 & AS8 & Z & 12.2 &  8.7 & 10.7 & 26 & 248\\\\\n",
       "\\end{tabular}\n"
      ],
      "text/markdown": [
       "\n",
       "A data.frame: 7385 × 12\n",
       "\n",
       "| Make &lt;chr&gt; | Model &lt;chr&gt; | Vehicle.Class &lt;chr&gt; | Engine.Size.L. &lt;dbl&gt; | Cylinders &lt;int&gt; | Transmission &lt;chr&gt; | Fuel.Type &lt;chr&gt; | Fuel.Consumption.City..L.100.km. &lt;dbl&gt; | Fuel.Consumption.Hwy..L.100.km. &lt;dbl&gt; | Fuel.Consumption.Comb..L.100.km. &lt;dbl&gt; | Fuel.Consumption.Comb..mpg. &lt;int&gt; | CO2.Emissions.g.km. &lt;int&gt; |\n",
       "|---|---|---|---|---|---|---|---|---|---|---|---|\n",
       "| ACURA        | ILX                       | COMPACT     | 2.0 |  4 | AS5 | Z |  9.9 |  6.7 |  8.5 | 33 | 196 |\n",
       "| ACURA        | ILX                       | COMPACT     | 2.4 |  4 | M6  | Z | 11.2 |  7.7 |  9.6 | 29 | 221 |\n",
       "| ACURA        | ILX HYBRID                | COMPACT     | 1.5 |  4 | AV7 | Z |  6.0 |  5.8 |  5.9 | 48 | 136 |\n",
       "| ACURA        | MDX 4WD                   | SUV - SMALL | 3.5 |  6 | AS6 | Z | 12.7 |  9.1 | 11.1 | 25 | 255 |\n",
       "| ACURA        | RDX AWD                   | SUV - SMALL | 3.5 |  6 | AS6 | Z | 12.1 |  8.7 | 10.6 | 27 | 244 |\n",
       "| ACURA        | RLX                       | MID-SIZE    | 3.5 |  6 | AS6 | Z | 11.9 |  7.7 | 10.0 | 28 | 230 |\n",
       "| ACURA        | TL                        | MID-SIZE    | 3.5 |  6 | AS6 | Z | 11.8 |  8.1 | 10.1 | 28 | 232 |\n",
       "| ACURA        | TL AWD                    | MID-SIZE    | 3.7 |  6 | AS6 | Z | 12.8 |  9.0 | 11.1 | 25 | 255 |\n",
       "| ACURA        | TL AWD                    | MID-SIZE    | 3.7 |  6 | M6  | Z | 13.4 |  9.5 | 11.6 | 24 | 267 |\n",
       "| ACURA        | TSX                       | COMPACT     | 2.4 |  4 | AS5 | Z | 10.6 |  7.5 |  9.2 | 31 | 212 |\n",
       "| ACURA        | TSX                       | COMPACT     | 2.4 |  4 | M6  | Z | 11.2 |  8.1 |  9.8 | 29 | 225 |\n",
       "| ACURA        | TSX                       | COMPACT     | 3.5 |  6 | AS5 | Z | 12.1 |  8.3 | 10.4 | 27 | 239 |\n",
       "| ALFA ROMEO   | 4C                        | TWO-SEATER  | 1.8 |  4 | AM6 | Z |  9.7 |  6.9 |  8.4 | 34 | 193 |\n",
       "| ASTON MARTIN | DB9                       | MINICOMPACT | 5.9 | 12 | A6  | Z | 18.0 | 12.6 | 15.6 | 18 | 359 |\n",
       "| ASTON MARTIN | RAPIDE                    | SUBCOMPACT  | 5.9 | 12 | A6  | Z | 18.0 | 12.6 | 15.6 | 18 | 359 |\n",
       "| ASTON MARTIN | V8 VANTAGE                | TWO-SEATER  | 4.7 |  8 | AM7 | Z | 17.4 | 11.3 | 14.7 | 19 | 338 |\n",
       "| ASTON MARTIN | V8 VANTAGE                | TWO-SEATER  | 4.7 |  8 | M6  | Z | 18.1 | 12.2 | 15.4 | 18 | 354 |\n",
       "| ASTON MARTIN | V8 VANTAGE S              | TWO-SEATER  | 4.7 |  8 | AM7 | Z | 17.4 | 11.3 | 14.7 | 19 | 338 |\n",
       "| ASTON MARTIN | V8 VANTAGE S              | TWO-SEATER  | 4.7 |  8 | M6  | Z | 18.1 | 12.2 | 15.4 | 18 | 354 |\n",
       "| ASTON MARTIN | VANQUISH                  | MINICOMPACT | 5.9 | 12 | A6  | Z | 18.0 | 12.6 | 15.6 | 18 | 359 |\n",
       "| AUDI         | A4                        | COMPACT     | 2.0 |  4 | AV8 | Z |  9.9 |  7.4 |  8.8 | 32 | 202 |\n",
       "| AUDI         | A4 QUATTRO                | COMPACT     | 2.0 |  4 | AS8 | Z | 11.5 |  8.1 | 10.0 | 28 | 230 |\n",
       "| AUDI         | A4 QUATTRO                | COMPACT     | 2.0 |  4 | M6  | Z | 10.8 |  7.5 |  9.3 | 30 | 214 |\n",
       "| AUDI         | A5 CABRIOLET QUATTRO      | SUBCOMPACT  | 2.0 |  4 | AS8 | Z | 11.5 |  8.1 | 10.0 | 28 | 230 |\n",
       "| AUDI         | A5 QUATTRO                | SUBCOMPACT  | 2.0 |  4 | AS8 | Z | 11.5 |  8.1 | 10.0 | 28 | 230 |\n",
       "| AUDI         | A5 QUATTRO                | SUBCOMPACT  | 2.0 |  4 | M6  | Z | 10.8 |  7.5 |  9.3 | 30 | 214 |\n",
       "| AUDI         | A6 QUATTRO                | MID-SIZE    | 2.0 |  4 | AS8 | Z | 12.0 |  8.1 | 10.2 | 28 | 235 |\n",
       "| AUDI         | A6 QUATTRO                | MID-SIZE    | 3.0 |  6 | AS8 | Z | 12.8 |  8.6 | 10.9 | 26 | 251 |\n",
       "| AUDI         | A6 QUATTRO TDI (modified) | MID-SIZE    | 3.0 |  6 | AS8 | D |  9.8 |  6.2 |  8.1 | 35 | 217 |\n",
       "| AUDI         | A7 QUATTRO                | MID-SIZE    | 3.0 |  6 | AS8 | Z | 13.3 |  8.5 | 11.2 | 25 | 262 |\n",
       "| ⋮ | ⋮ | ⋮ | ⋮ | ⋮ | ⋮ | ⋮ | ⋮ | ⋮ | ⋮ | ⋮ | ⋮ |\n",
       "| TOYOTA     | Tacoma 4WD D-Cab TRD Off-Road/Pro | PICKUP TRUCK - SMALL    | 3.5 | 6 | M6  | X | 13.8 | 11.7 | 12.9 | 22 | 300 |\n",
       "| TOYOTA     | Tundra                            | PICKUP TRUCK - STANDARD | 5.7 | 8 | AS6 | X | 17.7 | 13.6 | 15.9 | 18 | 371 |\n",
       "| TOYOTA     | Tundra 4WD                        | PICKUP TRUCK - STANDARD | 5.7 | 8 | AS6 | X | 18.0 | 14.2 | 16.3 | 17 | 381 |\n",
       "| TOYOTA     | Yaris                             | COMPACT                 | 1.5 | 4 | AS6 | X |  7.3 |  5.9 |  6.6 | 43 | 155 |\n",
       "| TOYOTA     | Yaris (SIL)                       | COMPACT                 | 1.5 | 4 | M6  | X |  7.8 |  6.1 |  6.9 | 41 | 165 |\n",
       "| VOLKSWAGEN | Arteon 4MOTION                    | FULL-SIZE               | 2.0 | 4 | AS8 | Z | 11.5 |  8.2 | 10.0 | 28 | 234 |\n",
       "| VOLKSWAGEN | Atlas Cross Sport 4MOTION         | SUV - SMALL             | 2.0 | 4 | AS8 | X | 12.8 | 10.4 | 11.7 | 24 | 273 |\n",
       "| VOLKSWAGEN | Golf                              | COMPACT                 | 1.4 | 4 | AS8 | X |  8.1 |  6.6 |  7.4 | 38 | 174 |\n",
       "| VOLKSWAGEN | Golf                              | COMPACT                 | 1.4 | 4 | M6  | X |  8.4 |  6.6 |  7.6 | 37 | 177 |\n",
       "| VOLKSWAGEN | Golf GTI                          | COMPACT                 | 2.0 | 4 | AM7 | X |  9.7 |  7.5 |  8.7 | 32 | 203 |\n",
       "| VOLKSWAGEN | Golf GTI                          | COMPACT                 | 2.0 | 4 | M6  | X |  9.8 |  7.3 |  8.7 | 32 | 203 |\n",
       "| VOLKSWAGEN | Jetta                             | COMPACT                 | 1.4 | 4 | AS8 | X |  7.8 |  5.9 |  7.0 | 40 | 162 |\n",
       "| VOLKSWAGEN | Jetta                             | COMPACT                 | 1.4 | 4 | M6  | X |  7.9 |  5.9 |  7.0 | 40 | 163 |\n",
       "| VOLKSWAGEN | Jetta GLI                         | COMPACT                 | 2.0 | 4 | AM7 | X |  9.3 |  7.2 |  8.4 | 34 | 196 |\n",
       "| VOLKSWAGEN | Jetta GLI                         | COMPACT                 | 2.0 | 4 | M6  | X |  9.6 |  7.1 |  8.5 | 33 | 198 |\n",
       "| VOLKSWAGEN | Passat                            | MID-SIZE                | 2.0 | 4 | AS6 | X | 10.2 |  6.9 |  8.7 | 32 | 205 |\n",
       "| VOLKSWAGEN | Tiguan                            | SUV - SMALL             | 2.0 | 4 | AS8 | X | 10.5 |  8.1 |  9.4 | 30 | 221 |\n",
       "| VOLKSWAGEN | Tiguan 4MOTION                    | SUV - SMALL             | 2.0 | 4 | AS8 | X | 11.5 |  8.7 | 10.2 | 28 | 241 |\n",
       "| VOLVO      | S60 T5                            | COMPACT                 | 2.0 | 4 | AS8 | Z | 10.5 |  7.1 |  8.9 | 32 | 208 |\n",
       "| VOLVO      | S60 T6 AWD                        | COMPACT                 | 2.0 | 4 | AS8 | Z | 11.0 |  7.4 |  9.4 | 30 | 219 |\n",
       "| VOLVO      | S90 T6 AWD                        | MID-SIZE                | 2.0 | 4 | AS8 | Z | 11.3 |  7.5 |  9.6 | 29 | 223 |\n",
       "| VOLVO      | V60 T5                            | STATION WAGON - SMALL   | 2.0 | 4 | AS8 | Z | 10.5 |  7.1 |  8.9 | 32 | 208 |\n",
       "| VOLVO      | V60 T6 AWD                        | STATION WAGON - SMALL   | 2.0 | 4 | AS8 | Z | 11.0 |  7.4 |  9.4 | 30 | 219 |\n",
       "| VOLVO      | V60 CC T5 AWD                     | STATION WAGON - SMALL   | 2.0 | 4 | AS8 | Z | 10.8 |  7.7 |  9.4 | 30 | 220 |\n",
       "| VOLVO      | XC40 T4 AWD                       | SUV - SMALL             | 2.0 | 4 | AS8 | X | 10.2 |  7.5 |  9.0 | 31 | 210 |\n",
       "| VOLVO      | XC40 T5 AWD                       | SUV - SMALL             | 2.0 | 4 | AS8 | Z | 10.7 |  7.7 |  9.4 | 30 | 219 |\n",
       "| VOLVO      | XC60 T5 AWD                       | SUV - SMALL             | 2.0 | 4 | AS8 | Z | 11.2 |  8.3 |  9.9 | 29 | 232 |\n",
       "| VOLVO      | XC60 T6 AWD                       | SUV - SMALL             | 2.0 | 4 | AS8 | Z | 11.7 |  8.6 | 10.3 | 27 | 240 |\n",
       "| VOLVO      | XC90 T5 AWD                       | SUV - STANDARD          | 2.0 | 4 | AS8 | Z | 11.2 |  8.3 |  9.9 | 29 | 232 |\n",
       "| VOLVO      | XC90 T6 AWD                       | SUV - STANDARD          | 2.0 | 4 | AS8 | Z | 12.2 |  8.7 | 10.7 | 26 | 248 |\n",
       "\n"
      ],
      "text/plain": [
       "     Make         Model                             Vehicle.Class          \n",
       "1    ACURA        ILX                               COMPACT                \n",
       "2    ACURA        ILX                               COMPACT                \n",
       "3    ACURA        ILX HYBRID                        COMPACT                \n",
       "4    ACURA        MDX 4WD                           SUV - SMALL            \n",
       "5    ACURA        RDX AWD                           SUV - SMALL            \n",
       "6    ACURA        RLX                               MID-SIZE               \n",
       "7    ACURA        TL                                MID-SIZE               \n",
       "8    ACURA        TL AWD                            MID-SIZE               \n",
       "9    ACURA        TL AWD                            MID-SIZE               \n",
       "10   ACURA        TSX                               COMPACT                \n",
       "11   ACURA        TSX                               COMPACT                \n",
       "12   ACURA        TSX                               COMPACT                \n",
       "13   ALFA ROMEO   4C                                TWO-SEATER             \n",
       "14   ASTON MARTIN DB9                               MINICOMPACT            \n",
       "15   ASTON MARTIN RAPIDE                            SUBCOMPACT             \n",
       "16   ASTON MARTIN V8 VANTAGE                        TWO-SEATER             \n",
       "17   ASTON MARTIN V8 VANTAGE                        TWO-SEATER             \n",
       "18   ASTON MARTIN V8 VANTAGE S                      TWO-SEATER             \n",
       "19   ASTON MARTIN V8 VANTAGE S                      TWO-SEATER             \n",
       "20   ASTON MARTIN VANQUISH                          MINICOMPACT            \n",
       "21   AUDI         A4                                COMPACT                \n",
       "22   AUDI         A4 QUATTRO                        COMPACT                \n",
       "23   AUDI         A4 QUATTRO                        COMPACT                \n",
       "24   AUDI         A5 CABRIOLET QUATTRO              SUBCOMPACT             \n",
       "25   AUDI         A5 QUATTRO                        SUBCOMPACT             \n",
       "26   AUDI         A5 QUATTRO                        SUBCOMPACT             \n",
       "27   AUDI         A6 QUATTRO                        MID-SIZE               \n",
       "28   AUDI         A6 QUATTRO                        MID-SIZE               \n",
       "29   AUDI         A6 QUATTRO TDI (modified)         MID-SIZE               \n",
       "30   AUDI         A7 QUATTRO                        MID-SIZE               \n",
       "⋮    ⋮            ⋮                                 ⋮                      \n",
       "7356 TOYOTA       Tacoma 4WD D-Cab TRD Off-Road/Pro PICKUP TRUCK - SMALL   \n",
       "7357 TOYOTA       Tundra                            PICKUP TRUCK - STANDARD\n",
       "7358 TOYOTA       Tundra 4WD                        PICKUP TRUCK - STANDARD\n",
       "7359 TOYOTA       Yaris                             COMPACT                \n",
       "7360 TOYOTA       Yaris (SIL)                       COMPACT                \n",
       "7361 VOLKSWAGEN   Arteon 4MOTION                    FULL-SIZE              \n",
       "7362 VOLKSWAGEN   Atlas Cross Sport 4MOTION         SUV - SMALL            \n",
       "7363 VOLKSWAGEN   Golf                              COMPACT                \n",
       "7364 VOLKSWAGEN   Golf                              COMPACT                \n",
       "7365 VOLKSWAGEN   Golf GTI                          COMPACT                \n",
       "7366 VOLKSWAGEN   Golf GTI                          COMPACT                \n",
       "7367 VOLKSWAGEN   Jetta                             COMPACT                \n",
       "7368 VOLKSWAGEN   Jetta                             COMPACT                \n",
       "7369 VOLKSWAGEN   Jetta GLI                         COMPACT                \n",
       "7370 VOLKSWAGEN   Jetta GLI                         COMPACT                \n",
       "7371 VOLKSWAGEN   Passat                            MID-SIZE               \n",
       "7372 VOLKSWAGEN   Tiguan                            SUV - SMALL            \n",
       "7373 VOLKSWAGEN   Tiguan 4MOTION                    SUV - SMALL            \n",
       "7374 VOLVO        S60 T5                            COMPACT                \n",
       "7375 VOLVO        S60 T6 AWD                        COMPACT                \n",
       "7376 VOLVO        S90 T6 AWD                        MID-SIZE               \n",
       "7377 VOLVO        V60 T5                            STATION WAGON - SMALL  \n",
       "7378 VOLVO        V60 T6 AWD                        STATION WAGON - SMALL  \n",
       "7379 VOLVO        V60 CC T5 AWD                     STATION WAGON - SMALL  \n",
       "7380 VOLVO        XC40 T4 AWD                       SUV - SMALL            \n",
       "7381 VOLVO        XC40 T5 AWD                       SUV - SMALL            \n",
       "7382 VOLVO        XC60 T5 AWD                       SUV - SMALL            \n",
       "7383 VOLVO        XC60 T6 AWD                       SUV - SMALL            \n",
       "7384 VOLVO        XC90 T5 AWD                       SUV - STANDARD         \n",
       "7385 VOLVO        XC90 T6 AWD                       SUV - STANDARD         \n",
       "     Engine.Size.L. Cylinders Transmission Fuel.Type\n",
       "1    2.0             4        AS5          Z        \n",
       "2    2.4             4        M6           Z        \n",
       "3    1.5             4        AV7          Z        \n",
       "4    3.5             6        AS6          Z        \n",
       "5    3.5             6        AS6          Z        \n",
       "6    3.5             6        AS6          Z        \n",
       "7    3.5             6        AS6          Z        \n",
       "8    3.7             6        AS6          Z        \n",
       "9    3.7             6        M6           Z        \n",
       "10   2.4             4        AS5          Z        \n",
       "11   2.4             4        M6           Z        \n",
       "12   3.5             6        AS5          Z        \n",
       "13   1.8             4        AM6          Z        \n",
       "14   5.9            12        A6           Z        \n",
       "15   5.9            12        A6           Z        \n",
       "16   4.7             8        AM7          Z        \n",
       "17   4.7             8        M6           Z        \n",
       "18   4.7             8        AM7          Z        \n",
       "19   4.7             8        M6           Z        \n",
       "20   5.9            12        A6           Z        \n",
       "21   2.0             4        AV8          Z        \n",
       "22   2.0             4        AS8          Z        \n",
       "23   2.0             4        M6           Z        \n",
       "24   2.0             4        AS8          Z        \n",
       "25   2.0             4        AS8          Z        \n",
       "26   2.0             4        M6           Z        \n",
       "27   2.0             4        AS8          Z        \n",
       "28   3.0             6        AS8          Z        \n",
       "29   3.0             6        AS8          D        \n",
       "30   3.0             6        AS8          Z        \n",
       "⋮    ⋮              ⋮         ⋮            ⋮        \n",
       "7356 3.5            6         M6           X        \n",
       "7357 5.7            8         AS6          X        \n",
       "7358 5.7            8         AS6          X        \n",
       "7359 1.5            4         AS6          X        \n",
       "7360 1.5            4         M6           X        \n",
       "7361 2.0            4         AS8          Z        \n",
       "7362 2.0            4         AS8          X        \n",
       "7363 1.4            4         AS8          X        \n",
       "7364 1.4            4         M6           X        \n",
       "7365 2.0            4         AM7          X        \n",
       "7366 2.0            4         M6           X        \n",
       "7367 1.4            4         AS8          X        \n",
       "7368 1.4            4         M6           X        \n",
       "7369 2.0            4         AM7          X        \n",
       "7370 2.0            4         M6           X        \n",
       "7371 2.0            4         AS6          X        \n",
       "7372 2.0            4         AS8          X        \n",
       "7373 2.0            4         AS8          X        \n",
       "7374 2.0            4         AS8          Z        \n",
       "7375 2.0            4         AS8          Z        \n",
       "7376 2.0            4         AS8          Z        \n",
       "7377 2.0            4         AS8          Z        \n",
       "7378 2.0            4         AS8          Z        \n",
       "7379 2.0            4         AS8          Z        \n",
       "7380 2.0            4         AS8          X        \n",
       "7381 2.0            4         AS8          Z        \n",
       "7382 2.0            4         AS8          Z        \n",
       "7383 2.0            4         AS8          Z        \n",
       "7384 2.0            4         AS8          Z        \n",
       "7385 2.0            4         AS8          Z        \n",
       "     Fuel.Consumption.City..L.100.km. Fuel.Consumption.Hwy..L.100.km.\n",
       "1     9.9                              6.7                           \n",
       "2    11.2                              7.7                           \n",
       "3     6.0                              5.8                           \n",
       "4    12.7                              9.1                           \n",
       "5    12.1                              8.7                           \n",
       "6    11.9                              7.7                           \n",
       "7    11.8                              8.1                           \n",
       "8    12.8                              9.0                           \n",
       "9    13.4                              9.5                           \n",
       "10   10.6                              7.5                           \n",
       "11   11.2                              8.1                           \n",
       "12   12.1                              8.3                           \n",
       "13    9.7                              6.9                           \n",
       "14   18.0                             12.6                           \n",
       "15   18.0                             12.6                           \n",
       "16   17.4                             11.3                           \n",
       "17   18.1                             12.2                           \n",
       "18   17.4                             11.3                           \n",
       "19   18.1                             12.2                           \n",
       "20   18.0                             12.6                           \n",
       "21    9.9                              7.4                           \n",
       "22   11.5                              8.1                           \n",
       "23   10.8                              7.5                           \n",
       "24   11.5                              8.1                           \n",
       "25   11.5                              8.1                           \n",
       "26   10.8                              7.5                           \n",
       "27   12.0                              8.1                           \n",
       "28   12.8                              8.6                           \n",
       "29    9.8                              6.2                           \n",
       "30   13.3                              8.5                           \n",
       "⋮    ⋮                                ⋮                              \n",
       "7356 13.8                             11.7                           \n",
       "7357 17.7                             13.6                           \n",
       "7358 18.0                             14.2                           \n",
       "7359  7.3                              5.9                           \n",
       "7360  7.8                              6.1                           \n",
       "7361 11.5                              8.2                           \n",
       "7362 12.8                             10.4                           \n",
       "7363  8.1                              6.6                           \n",
       "7364  8.4                              6.6                           \n",
       "7365  9.7                              7.5                           \n",
       "7366  9.8                              7.3                           \n",
       "7367  7.8                              5.9                           \n",
       "7368  7.9                              5.9                           \n",
       "7369  9.3                              7.2                           \n",
       "7370  9.6                              7.1                           \n",
       "7371 10.2                              6.9                           \n",
       "7372 10.5                              8.1                           \n",
       "7373 11.5                              8.7                           \n",
       "7374 10.5                              7.1                           \n",
       "7375 11.0                              7.4                           \n",
       "7376 11.3                              7.5                           \n",
       "7377 10.5                              7.1                           \n",
       "7378 11.0                              7.4                           \n",
       "7379 10.8                              7.7                           \n",
       "7380 10.2                              7.5                           \n",
       "7381 10.7                              7.7                           \n",
       "7382 11.2                              8.3                           \n",
       "7383 11.7                              8.6                           \n",
       "7384 11.2                              8.3                           \n",
       "7385 12.2                              8.7                           \n",
       "     Fuel.Consumption.Comb..L.100.km. Fuel.Consumption.Comb..mpg.\n",
       "1     8.5                             33                         \n",
       "2     9.6                             29                         \n",
       "3     5.9                             48                         \n",
       "4    11.1                             25                         \n",
       "5    10.6                             27                         \n",
       "6    10.0                             28                         \n",
       "7    10.1                             28                         \n",
       "8    11.1                             25                         \n",
       "9    11.6                             24                         \n",
       "10    9.2                             31                         \n",
       "11    9.8                             29                         \n",
       "12   10.4                             27                         \n",
       "13    8.4                             34                         \n",
       "14   15.6                             18                         \n",
       "15   15.6                             18                         \n",
       "16   14.7                             19                         \n",
       "17   15.4                             18                         \n",
       "18   14.7                             19                         \n",
       "19   15.4                             18                         \n",
       "20   15.6                             18                         \n",
       "21    8.8                             32                         \n",
       "22   10.0                             28                         \n",
       "23    9.3                             30                         \n",
       "24   10.0                             28                         \n",
       "25   10.0                             28                         \n",
       "26    9.3                             30                         \n",
       "27   10.2                             28                         \n",
       "28   10.9                             26                         \n",
       "29    8.1                             35                         \n",
       "30   11.2                             25                         \n",
       "⋮    ⋮                                ⋮                          \n",
       "7356 12.9                             22                         \n",
       "7357 15.9                             18                         \n",
       "7358 16.3                             17                         \n",
       "7359  6.6                             43                         \n",
       "7360  6.9                             41                         \n",
       "7361 10.0                             28                         \n",
       "7362 11.7                             24                         \n",
       "7363  7.4                             38                         \n",
       "7364  7.6                             37                         \n",
       "7365  8.7                             32                         \n",
       "7366  8.7                             32                         \n",
       "7367  7.0                             40                         \n",
       "7368  7.0                             40                         \n",
       "7369  8.4                             34                         \n",
       "7370  8.5                             33                         \n",
       "7371  8.7                             32                         \n",
       "7372  9.4                             30                         \n",
       "7373 10.2                             28                         \n",
       "7374  8.9                             32                         \n",
       "7375  9.4                             30                         \n",
       "7376  9.6                             29                         \n",
       "7377  8.9                             32                         \n",
       "7378  9.4                             30                         \n",
       "7379  9.4                             30                         \n",
       "7380  9.0                             31                         \n",
       "7381  9.4                             30                         \n",
       "7382  9.9                             29                         \n",
       "7383 10.3                             27                         \n",
       "7384  9.9                             29                         \n",
       "7385 10.7                             26                         \n",
       "     CO2.Emissions.g.km.\n",
       "1    196                \n",
       "2    221                \n",
       "3    136                \n",
       "4    255                \n",
       "5    244                \n",
       "6    230                \n",
       "7    232                \n",
       "8    255                \n",
       "9    267                \n",
       "10   212                \n",
       "11   225                \n",
       "12   239                \n",
       "13   193                \n",
       "14   359                \n",
       "15   359                \n",
       "16   338                \n",
       "17   354                \n",
       "18   338                \n",
       "19   354                \n",
       "20   359                \n",
       "21   202                \n",
       "22   230                \n",
       "23   214                \n",
       "24   230                \n",
       "25   230                \n",
       "26   214                \n",
       "27   235                \n",
       "28   251                \n",
       "29   217                \n",
       "30   262                \n",
       "⋮    ⋮                  \n",
       "7356 300                \n",
       "7357 371                \n",
       "7358 381                \n",
       "7359 155                \n",
       "7360 165                \n",
       "7361 234                \n",
       "7362 273                \n",
       "7363 174                \n",
       "7364 177                \n",
       "7365 203                \n",
       "7366 203                \n",
       "7367 162                \n",
       "7368 163                \n",
       "7369 196                \n",
       "7370 198                \n",
       "7371 205                \n",
       "7372 221                \n",
       "7373 241                \n",
       "7374 208                \n",
       "7375 219                \n",
       "7376 223                \n",
       "7377 208                \n",
       "7378 219                \n",
       "7379 220                \n",
       "7380 210                \n",
       "7381 219                \n",
       "7382 232                \n",
       "7383 240                \n",
       "7384 232                \n",
       "7385 248                "
      ]
     },
     "metadata": {},
     "output_type": "display_data"
    }
   ],
   "source": [
    "data_co2 <- read.csv(\"co2.csv\")\n",
    "data_co2"
   ]
  },
  {
   "cell_type": "code",
   "execution_count": 10,
   "metadata": {
    "vscode": {
     "languageId": "r"
    }
   },
   "outputs": [
    {
     "data": {
      "text/html": [
       "<style>\n",
       ".list-inline {list-style: none; margin:0; padding: 0}\n",
       ".list-inline>li {display: inline-block}\n",
       ".list-inline>li:not(:last-child)::after {content: \"\\00b7\"; padding: 0 .5ex}\n",
       "</style>\n",
       "<ol class=list-inline><li>7385</li><li>12</li></ol>\n"
      ],
      "text/latex": [
       "\\begin{enumerate*}\n",
       "\\item 7385\n",
       "\\item 12\n",
       "\\end{enumerate*}\n"
      ],
      "text/markdown": [
       "1. 7385\n",
       "2. 12\n",
       "\n",
       "\n"
      ],
      "text/plain": [
       "[1] 7385   12"
      ]
     },
     "metadata": {},
     "output_type": "display_data"
    }
   ],
   "source": [
    "dim(data_co2)"
   ]
  },
  {
   "cell_type": "code",
   "execution_count": 21,
   "metadata": {
    "vscode": {
     "languageId": "r"
    }
   },
   "outputs": [
    {
     "data": {
      "text/html": [
       "<table class=\"dataframe\">\n",
       "<caption>A tibble: 7 × 26</caption>\n",
       "<thead>\n",
       "\t<tr><th scope=col>described_variables</th><th scope=col>n</th><th scope=col>na</th><th scope=col>mean</th><th scope=col>sd</th><th scope=col>se_mean</th><th scope=col>IQR</th><th scope=col>skewness</th><th scope=col>kurtosis</th><th scope=col>p00</th><th scope=col>⋯</th><th scope=col>p40</th><th scope=col>p50</th><th scope=col>p60</th><th scope=col>p70</th><th scope=col>p75</th><th scope=col>p80</th><th scope=col>p90</th><th scope=col>p95</th><th scope=col>p99</th><th scope=col>p100</th></tr>\n",
       "\t<tr><th scope=col>&lt;chr&gt;</th><th scope=col>&lt;int&gt;</th><th scope=col>&lt;int&gt;</th><th scope=col>&lt;dbl&gt;</th><th scope=col>&lt;dbl&gt;</th><th scope=col>&lt;dbl&gt;</th><th scope=col>&lt;dbl&gt;</th><th scope=col>&lt;dbl&gt;</th><th scope=col>&lt;dbl&gt;</th><th scope=col>&lt;dbl&gt;</th><th scope=col>⋯</th><th scope=col>&lt;dbl&gt;</th><th scope=col>&lt;dbl&gt;</th><th scope=col>&lt;dbl&gt;</th><th scope=col>&lt;dbl&gt;</th><th scope=col>&lt;dbl&gt;</th><th scope=col>&lt;dbl&gt;</th><th scope=col>&lt;dbl&gt;</th><th scope=col>&lt;dbl&gt;</th><th scope=col>&lt;dbl&gt;</th><th scope=col>&lt;dbl&gt;</th></tr>\n",
       "</thead>\n",
       "<tbody>\n",
       "\t<tr><td>Engine.Size.L.                  </td><td>7385</td><td>0</td><td>  3.160068</td><td> 1.354170</td><td>0.01575789</td><td> 1.7</td><td>0.8091810</td><td>-0.1319633</td><td> 0.9</td><td>⋯</td><td>  2.5</td><td>  3.0</td><td>  3.5</td><td>  3.6</td><td>  3.7</td><td>  4.3</td><td>  5.3</td><td>  6.0</td><td>  6.500</td><td>  8.4</td></tr>\n",
       "\t<tr><td>Cylinders                       </td><td>7385</td><td>0</td><td>  5.615030</td><td> 1.828307</td><td>0.02127521</td><td> 2.0</td><td>1.1104154</td><td> 1.5251750</td><td> 3.0</td><td>⋯</td><td>  4.0</td><td>  6.0</td><td>  6.0</td><td>  6.0</td><td>  6.0</td><td>  8.0</td><td>  8.0</td><td>  8.0</td><td> 12.000</td><td> 16.0</td></tr>\n",
       "\t<tr><td>Fuel.Consumption.City..L.100.km.</td><td>7385</td><td>0</td><td> 12.556534</td><td> 3.500274</td><td>0.04073116</td><td> 4.5</td><td>0.8090047</td><td> 1.1961450</td><td> 4.2</td><td>⋯</td><td> 11.3</td><td> 12.1</td><td> 12.9</td><td> 14.0</td><td> 14.6</td><td> 15.2</td><td> 17.2</td><td> 19.2</td><td> 22.200</td><td> 30.6</td></tr>\n",
       "\t<tr><td>Fuel.Consumption.Hwy..L.100.km. </td><td>7385</td><td>0</td><td>  9.041706</td><td> 2.224456</td><td>0.02588503</td><td> 2.7</td><td>1.0792167</td><td> 2.0089689</td><td> 4.0</td><td>⋯</td><td>  8.2</td><td>  8.7</td><td>  9.2</td><td>  9.8</td><td> 10.2</td><td> 10.6</td><td> 11.9</td><td> 13.2</td><td> 15.716</td><td> 20.6</td></tr>\n",
       "\t<tr><td>Fuel.Consumption.Comb..L.100.km.</td><td>7385</td><td>0</td><td> 10.975071</td><td> 2.892506</td><td>0.03365883</td><td> 3.7</td><td>0.8933157</td><td> 1.3935754</td><td> 4.1</td><td>⋯</td><td>  9.9</td><td> 10.6</td><td> 11.2</td><td> 12.1</td><td> 12.6</td><td> 13.1</td><td> 14.7</td><td> 16.5</td><td> 19.300</td><td> 26.1</td></tr>\n",
       "\t<tr><td>Fuel.Consumption.Comb..mpg.     </td><td>7385</td><td>0</td><td> 27.481652</td><td> 7.231879</td><td>0.08415422</td><td>10.0</td><td>0.9770341</td><td> 2.4993690</td><td>11.0</td><td>⋯</td><td> 25.0</td><td> 27.0</td><td> 29.0</td><td> 31.0</td><td> 32.0</td><td> 33.0</td><td> 36.0</td><td> 39.0</td><td> 50.000</td><td> 69.0</td></tr>\n",
       "\t<tr><td>CO2.Emissions.g.km.             </td><td>7385</td><td>0</td><td>250.584699</td><td>58.512679</td><td>0.68088652</td><td>80.0</td><td>0.5260938</td><td> 0.4788009</td><td>96.0</td><td>⋯</td><td>230.0</td><td>246.0</td><td>260.0</td><td>278.0</td><td>288.0</td><td>298.0</td><td>327.0</td><td>354.0</td><td>412.160</td><td>522.0</td></tr>\n",
       "</tbody>\n",
       "</table>\n"
      ],
      "text/latex": [
       "A tibble: 7 × 26\n",
       "\\begin{tabular}{lllllllllllllllllllll}\n",
       " described\\_variables & n & na & mean & sd & se\\_mean & IQR & skewness & kurtosis & p00 & ⋯ & p40 & p50 & p60 & p70 & p75 & p80 & p90 & p95 & p99 & p100\\\\\n",
       " <chr> & <int> & <int> & <dbl> & <dbl> & <dbl> & <dbl> & <dbl> & <dbl> & <dbl> & ⋯ & <dbl> & <dbl> & <dbl> & <dbl> & <dbl> & <dbl> & <dbl> & <dbl> & <dbl> & <dbl>\\\\\n",
       "\\hline\n",
       "\t Engine.Size.L.                   & 7385 & 0 &   3.160068 &  1.354170 & 0.01575789 &  1.7 & 0.8091810 & -0.1319633 &  0.9 & ⋯ &   2.5 &   3.0 &   3.5 &   3.6 &   3.7 &   4.3 &   5.3 &   6.0 &   6.500 &   8.4\\\\\n",
       "\t Cylinders                        & 7385 & 0 &   5.615030 &  1.828307 & 0.02127521 &  2.0 & 1.1104154 &  1.5251750 &  3.0 & ⋯ &   4.0 &   6.0 &   6.0 &   6.0 &   6.0 &   8.0 &   8.0 &   8.0 &  12.000 &  16.0\\\\\n",
       "\t Fuel.Consumption.City..L.100.km. & 7385 & 0 &  12.556534 &  3.500274 & 0.04073116 &  4.5 & 0.8090047 &  1.1961450 &  4.2 & ⋯ &  11.3 &  12.1 &  12.9 &  14.0 &  14.6 &  15.2 &  17.2 &  19.2 &  22.200 &  30.6\\\\\n",
       "\t Fuel.Consumption.Hwy..L.100.km.  & 7385 & 0 &   9.041706 &  2.224456 & 0.02588503 &  2.7 & 1.0792167 &  2.0089689 &  4.0 & ⋯ &   8.2 &   8.7 &   9.2 &   9.8 &  10.2 &  10.6 &  11.9 &  13.2 &  15.716 &  20.6\\\\\n",
       "\t Fuel.Consumption.Comb..L.100.km. & 7385 & 0 &  10.975071 &  2.892506 & 0.03365883 &  3.7 & 0.8933157 &  1.3935754 &  4.1 & ⋯ &   9.9 &  10.6 &  11.2 &  12.1 &  12.6 &  13.1 &  14.7 &  16.5 &  19.300 &  26.1\\\\\n",
       "\t Fuel.Consumption.Comb..mpg.      & 7385 & 0 &  27.481652 &  7.231879 & 0.08415422 & 10.0 & 0.9770341 &  2.4993690 & 11.0 & ⋯ &  25.0 &  27.0 &  29.0 &  31.0 &  32.0 &  33.0 &  36.0 &  39.0 &  50.000 &  69.0\\\\\n",
       "\t CO2.Emissions.g.km.              & 7385 & 0 & 250.584699 & 58.512679 & 0.68088652 & 80.0 & 0.5260938 &  0.4788009 & 96.0 & ⋯ & 230.0 & 246.0 & 260.0 & 278.0 & 288.0 & 298.0 & 327.0 & 354.0 & 412.160 & 522.0\\\\\n",
       "\\end{tabular}\n"
      ],
      "text/markdown": [
       "\n",
       "A tibble: 7 × 26\n",
       "\n",
       "| described_variables &lt;chr&gt; | n &lt;int&gt; | na &lt;int&gt; | mean &lt;dbl&gt; | sd &lt;dbl&gt; | se_mean &lt;dbl&gt; | IQR &lt;dbl&gt; | skewness &lt;dbl&gt; | kurtosis &lt;dbl&gt; | p00 &lt;dbl&gt; | ⋯ ⋯ | p40 &lt;dbl&gt; | p50 &lt;dbl&gt; | p60 &lt;dbl&gt; | p70 &lt;dbl&gt; | p75 &lt;dbl&gt; | p80 &lt;dbl&gt; | p90 &lt;dbl&gt; | p95 &lt;dbl&gt; | p99 &lt;dbl&gt; | p100 &lt;dbl&gt; |\n",
       "|---|---|---|---|---|---|---|---|---|---|---|---|---|---|---|---|---|---|---|---|---|\n",
       "| Engine.Size.L.                   | 7385 | 0 |   3.160068 |  1.354170 | 0.01575789 |  1.7 | 0.8091810 | -0.1319633 |  0.9 | ⋯ |   2.5 |   3.0 |   3.5 |   3.6 |   3.7 |   4.3 |   5.3 |   6.0 |   6.500 |   8.4 |\n",
       "| Cylinders                        | 7385 | 0 |   5.615030 |  1.828307 | 0.02127521 |  2.0 | 1.1104154 |  1.5251750 |  3.0 | ⋯ |   4.0 |   6.0 |   6.0 |   6.0 |   6.0 |   8.0 |   8.0 |   8.0 |  12.000 |  16.0 |\n",
       "| Fuel.Consumption.City..L.100.km. | 7385 | 0 |  12.556534 |  3.500274 | 0.04073116 |  4.5 | 0.8090047 |  1.1961450 |  4.2 | ⋯ |  11.3 |  12.1 |  12.9 |  14.0 |  14.6 |  15.2 |  17.2 |  19.2 |  22.200 |  30.6 |\n",
       "| Fuel.Consumption.Hwy..L.100.km.  | 7385 | 0 |   9.041706 |  2.224456 | 0.02588503 |  2.7 | 1.0792167 |  2.0089689 |  4.0 | ⋯ |   8.2 |   8.7 |   9.2 |   9.8 |  10.2 |  10.6 |  11.9 |  13.2 |  15.716 |  20.6 |\n",
       "| Fuel.Consumption.Comb..L.100.km. | 7385 | 0 |  10.975071 |  2.892506 | 0.03365883 |  3.7 | 0.8933157 |  1.3935754 |  4.1 | ⋯ |   9.9 |  10.6 |  11.2 |  12.1 |  12.6 |  13.1 |  14.7 |  16.5 |  19.300 |  26.1 |\n",
       "| Fuel.Consumption.Comb..mpg.      | 7385 | 0 |  27.481652 |  7.231879 | 0.08415422 | 10.0 | 0.9770341 |  2.4993690 | 11.0 | ⋯ |  25.0 |  27.0 |  29.0 |  31.0 |  32.0 |  33.0 |  36.0 |  39.0 |  50.000 |  69.0 |\n",
       "| CO2.Emissions.g.km.              | 7385 | 0 | 250.584699 | 58.512679 | 0.68088652 | 80.0 | 0.5260938 |  0.4788009 | 96.0 | ⋯ | 230.0 | 246.0 | 260.0 | 278.0 | 288.0 | 298.0 | 327.0 | 354.0 | 412.160 | 522.0 |\n",
       "\n"
      ],
      "text/plain": [
       "  described_variables              n    na mean       sd        se_mean    IQR \n",
       "1 Engine.Size.L.                   7385 0    3.160068  1.354170 0.01575789  1.7\n",
       "2 Cylinders                        7385 0    5.615030  1.828307 0.02127521  2.0\n",
       "3 Fuel.Consumption.City..L.100.km. 7385 0   12.556534  3.500274 0.04073116  4.5\n",
       "4 Fuel.Consumption.Hwy..L.100.km.  7385 0    9.041706  2.224456 0.02588503  2.7\n",
       "5 Fuel.Consumption.Comb..L.100.km. 7385 0   10.975071  2.892506 0.03365883  3.7\n",
       "6 Fuel.Consumption.Comb..mpg.      7385 0   27.481652  7.231879 0.08415422 10.0\n",
       "7 CO2.Emissions.g.km.              7385 0  250.584699 58.512679 0.68088652 80.0\n",
       "  skewness  kurtosis   p00  ⋯ p40   p50   p60   p70   p75   p80   p90   p95  \n",
       "1 0.8091810 -0.1319633  0.9 ⋯   2.5   3.0   3.5   3.6   3.7   4.3   5.3   6.0\n",
       "2 1.1104154  1.5251750  3.0 ⋯   4.0   6.0   6.0   6.0   6.0   8.0   8.0   8.0\n",
       "3 0.8090047  1.1961450  4.2 ⋯  11.3  12.1  12.9  14.0  14.6  15.2  17.2  19.2\n",
       "4 1.0792167  2.0089689  4.0 ⋯   8.2   8.7   9.2   9.8  10.2  10.6  11.9  13.2\n",
       "5 0.8933157  1.3935754  4.1 ⋯   9.9  10.6  11.2  12.1  12.6  13.1  14.7  16.5\n",
       "6 0.9770341  2.4993690 11.0 ⋯  25.0  27.0  29.0  31.0  32.0  33.0  36.0  39.0\n",
       "7 0.5260938  0.4788009 96.0 ⋯ 230.0 246.0 260.0 278.0 288.0 298.0 327.0 354.0\n",
       "  p99     p100 \n",
       "1   6.500   8.4\n",
       "2  12.000  16.0\n",
       "3  22.200  30.6\n",
       "4  15.716  20.6\n",
       "5  19.300  26.1\n",
       "6  50.000  69.0\n",
       "7 412.160 522.0"
      ]
     },
     "metadata": {},
     "output_type": "display_data"
    }
   ],
   "source": [
    "dlookr::describe(data_co2)"
   ]
  },
  {
   "cell_type": "code",
   "execution_count": 23,
   "metadata": {
    "vscode": {
     "languageId": "r"
    }
   },
   "outputs": [],
   "source": [
    "# Convert column names to lowercase\n",
    "colnames(data_co2) <- tolower(colnames(data_co2))"
   ]
  },
  {
   "cell_type": "code",
   "execution_count": 40,
   "metadata": {
    "vscode": {
     "languageId": "r"
    }
   },
   "outputs": [
    {
     "data": {
      "image/png": "[encoded data removed]",
      "text/plain": [
       "plot without title"
      ]
     },
     "metadata": {
      "image/png": {
       "height": 420,
       "width": 420
      }
     },
     "output_type": "display_data"
    }
   ],
   "source": [
    "library(ggplot2)\n",
    "library(dplyr)\n",
    "\n",
    "data_co2 %>% \n",
    "  dplyr::select(make) %>% \n",
    "  group_by(make) %>% \n",
    "  summarise(count = n()) %>% \n",
    "  arrange(desc(count)) %>% \n",
    "  ggplot(aes(y = count, x = reorder(make, -count))) +\n",
    "  geom_col() +\n",
    "  labs(title = \"Count of Makes\",\n",
    "       x = \"Make\",\n",
    "       y = \"Count\") +\n",
    "  theme_minimal() +\n",
    "  theme(axis.text.x = element_text(angle = 45, hjust = 1))\n"
   ]
  },
  {
   "cell_type": "code",
   "execution_count": 52,
   "metadata": {
    "vscode": {
     "languageId": "r"
    }
   },
   "outputs": [
    {
     "data": {
      "image/png": "[encoded data removed]",
      "text/plain": [
       "plot without title"
      ]
     },
     "metadata": {
      "image/png": {
       "height": 420,
       "width": 420
      }
     },
     "output_type": "display_data"
    }
   ],
   "source": [
    "library(ggplot2)\n",
    "library(dplyr)\n",
    "\n",
    "data_co2 %>%\n",
    "  dplyr::select(Make, `CO2.Emissions.g.km.`) %>% \n",
    "  dplyr::rename(co2 = `CO2.Emissions.g.km.`) %>% \n",
    "  ggplot(aes(x = Make, y = co2)) +\n",
    "  geom_boxplot() +\n",
    "  labs(title = \"CO2 Emissions by Make\",\n",
    "       x = \"Make\",\n",
    "       y = \"CO2 Emissions (g/km)\") +\n",
    "  theme_minimal() +\n",
    "  theme(axis.text.x = element_text(angle = 45, hjust = 1))\n",
    "\n",
    "\n"
   ]
  },
  {
   "cell_type": "code",
   "execution_count": null,
   "metadata": {
    "vscode": {
     "languageId": "r"
    }
   },
   "outputs": [],
   "source": []
  }
 ],
 "metadata": {
  "kernelspec": {
   "display_name": "R",
   "language": "R",
   "name": "ir"
  },
  "language_info": {
   "codemirror_mode": "r",
   "file_extension": ".r",
   "mimetype": "text/x-r-source",
   "name": "R",
   "pygments_lexer": "r",
   "version": "4.4.2"
  }
 },
 "nbformat": 4,
 "nbformat_minor": 2
}
